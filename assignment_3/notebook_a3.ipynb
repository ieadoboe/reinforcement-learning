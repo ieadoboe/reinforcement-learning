{
 "cells": [
  {
   "cell_type": "markdown",
   "id": "44eb8f98",
   "metadata": {},
   "source": [
    "# Assignment 3\n"
   ]
  },
  {
   "cell_type": "markdown",
   "id": "9352276a",
   "metadata": {},
   "source": [
    "Isaac Edem Adoboe - ieadoboe@mun.ca  \n",
    "Masters, Data Science  \n",
    "Student Number: 202384695\n"
   ]
  },
  {
   "cell_type": "markdown",
   "id": "01104a9a",
   "metadata": {},
   "source": [
    "**ENVIRONMENT RULES**\n",
    "\n",
    "![](grid_world.png){width=500px}\n",
    "\n",
    "- Agent starts at BLUE SQUARE\n",
    "- RED STATE = -20 and goes back to start (BLUE SQUARE)\n",
    "- Move between any two other states = -1\n",
    "- Move outside the grid = -1\n",
    "- BLACK SQUARE -> terminal state -> episode terminates -> mission complete\n"
   ]
  },
  {
   "cell_type": "markdown",
   "id": "eaf3725a",
   "metadata": {},
   "source": [
    "## Environment setup\n"
   ]
  },
  {
   "cell_type": "code",
   "execution_count": null,
   "id": "d573ac34",
   "metadata": {},
   "outputs": [],
   "source": []
  }
 ],
 "metadata": {
  "kernelspec": {
   "display_name": "rl-env",
   "language": "python",
   "name": "python3"
  },
  "language_info": {
   "name": "python",
   "version": "3.10.16"
  }
 },
 "nbformat": 4,
 "nbformat_minor": 5
}
